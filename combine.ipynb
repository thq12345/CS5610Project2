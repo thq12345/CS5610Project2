{
 "cells": [
  {
   "cell_type": "code",
   "execution_count": 1,
   "id": "f34feaed",
   "metadata": {},
   "outputs": [],
   "source": [
    "import pandas as pd\n",
    "import glob"
   ]
  },
  {
   "cell_type": "code",
   "execution_count": 2,
   "id": "fc7a8ae9",
   "metadata": {},
   "outputs": [
    {
     "name": "stdout",
     "output_type": "stream",
     "text": [
      "['./data\\\\all_ventures_by_stages.csv', './data\\\\education_for_ventures_with_coaches.csv', './data\\\\idea_ventures_by_industry.csv', './data\\\\pitches_attempted_by_quarter.csv', './data\\\\venture_contacts_education.csv']\n"
     ]
    }
   ],
   "source": [
    "print(glob.glob(\"./data/*.csv\"))"
   ]
  },
  {
   "cell_type": "code",
   "execution_count": 3,
   "id": "f27bf1e9",
   "metadata": {},
   "outputs": [
    {
     "data": {
      "text/plain": [
       "508"
      ]
     },
     "execution_count": 3,
     "metadata": {},
     "output_type": "execute_result"
    }
   ],
   "source": [
    "all_ventures_by_stages = pd.read_csv('./data/all_ventures_by_stages.csv')\n",
    "all_ventures_by_stages=all_ventures_by_stages[['Account Name','Stage']]\n",
    "all_ventures_by_stages.shape[0]"
   ]
  },
  {
   "cell_type": "code",
   "execution_count": 18,
   "id": "738b193a",
   "metadata": {},
   "outputs": [
    {
     "data": {
      "text/plain": [
       "508"
      ]
     },
     "execution_count": 18,
     "metadata": {},
     "output_type": "execute_result"
    }
   ],
   "source": [
    "idea_ventures_by_industry = pd.read_csv('./data/idea_ventures_by_industry.csv')\n",
    "idea_ventures_by_industry=idea_ventures_by_industry[['Account Name','Active','Stage','Industry','Northeastern Relationship']]\n",
    "idea_ventures_by_industry.shape[0]"
   ]
  },
  {
   "cell_type": "code",
   "execution_count": 5,
   "id": "b4129666",
   "metadata": {},
   "outputs": [
    {
     "data": {
      "text/html": [
       "<div>\n",
       "<style scoped>\n",
       "    .dataframe tbody tr th:only-of-type {\n",
       "        vertical-align: middle;\n",
       "    }\n",
       "\n",
       "    .dataframe tbody tr th {\n",
       "        vertical-align: top;\n",
       "    }\n",
       "\n",
       "    .dataframe thead th {\n",
       "        text-align: right;\n",
       "    }\n",
       "</style>\n",
       "<table border=\"1\" class=\"dataframe\">\n",
       "  <thead>\n",
       "    <tr style=\"text-align: right;\">\n",
       "      <th></th>\n",
       "      <th>Account Name</th>\n",
       "      <th>Pitch Type</th>\n",
       "      <th>Pitch: Created Date</th>\n",
       "      <th>Last Modified Date</th>\n",
       "      <th>Pitch: Pitch Number</th>\n",
       "      <th>Pass</th>\n",
       "      <th>Pitched</th>\n",
       "      <th>Funded</th>\n",
       "      <th>Total Evaulation Score</th>\n",
       "      <th>Pitch Date</th>\n",
       "      <th>Pitch: Record Type</th>\n",
       "    </tr>\n",
       "  </thead>\n",
       "  <tbody>\n",
       "    <tr>\n",
       "      <th>0</th>\n",
       "      <td>BEAST</td>\n",
       "      <td>Ready Stage Coaching Sessions</td>\n",
       "      <td>7/6/2021</td>\n",
       "      <td>6/1/2021</td>\n",
       "      <td>P-002229</td>\n",
       "      <td>NaN</td>\n",
       "      <td>NaN</td>\n",
       "      <td>NaN</td>\n",
       "      <td>11.0</td>\n",
       "      <td>7/6/2021</td>\n",
       "      <td>1. Office Hours</td>\n",
       "    </tr>\n",
       "    <tr>\n",
       "      <th>1</th>\n",
       "      <td>Project 2030</td>\n",
       "      <td>Ready Stage Coaching Sessions</td>\n",
       "      <td>7/15/2021</td>\n",
       "      <td>6/21/2021</td>\n",
       "      <td>P-002231</td>\n",
       "      <td>NaN</td>\n",
       "      <td>NaN</td>\n",
       "      <td>NaN</td>\n",
       "      <td>NaN</td>\n",
       "      <td>7/15/2021</td>\n",
       "      <td>1. Office Hours</td>\n",
       "    </tr>\n",
       "    <tr>\n",
       "      <th>2</th>\n",
       "      <td>CO-UNITY DATA</td>\n",
       "      <td>Ready Stage Coaching Sessions</td>\n",
       "      <td>7/20/2021</td>\n",
       "      <td>4/14/2021</td>\n",
       "      <td>P-002234</td>\n",
       "      <td>NaN</td>\n",
       "      <td>NaN</td>\n",
       "      <td>NaN</td>\n",
       "      <td>18.0</td>\n",
       "      <td>7/20/2021</td>\n",
       "      <td>1. Office Hours</td>\n",
       "    </tr>\n",
       "    <tr>\n",
       "      <th>3</th>\n",
       "      <td>LINK UP LLC.</td>\n",
       "      <td>Ready Stage Coaching Sessions</td>\n",
       "      <td>7/20/2021</td>\n",
       "      <td>8/13/2021</td>\n",
       "      <td>P-002235</td>\n",
       "      <td>NaN</td>\n",
       "      <td>NaN</td>\n",
       "      <td>NaN</td>\n",
       "      <td>20.0</td>\n",
       "      <td>7/20/2021</td>\n",
       "      <td>1. Office Hours</td>\n",
       "    </tr>\n",
       "    <tr>\n",
       "      <th>4</th>\n",
       "      <td>Grassroots-Fund</td>\n",
       "      <td>Ready Stage Coaching Sessions</td>\n",
       "      <td>7/28/2021</td>\n",
       "      <td>2/27/2021</td>\n",
       "      <td>P-002236</td>\n",
       "      <td>NaN</td>\n",
       "      <td>NaN</td>\n",
       "      <td>NaN</td>\n",
       "      <td>16.0</td>\n",
       "      <td>7/27/2021</td>\n",
       "      <td>1. Office Hours</td>\n",
       "    </tr>\n",
       "  </tbody>\n",
       "</table>\n",
       "</div>"
      ],
      "text/plain": [
       "      Account Name                     Pitch Type Pitch: Created Date  \\\n",
       "0            BEAST  Ready Stage Coaching Sessions            7/6/2021   \n",
       "1     Project 2030  Ready Stage Coaching Sessions           7/15/2021   \n",
       "2    CO-UNITY DATA  Ready Stage Coaching Sessions           7/20/2021   \n",
       "3     LINK UP LLC.  Ready Stage Coaching Sessions           7/20/2021   \n",
       "4  Grassroots-Fund  Ready Stage Coaching Sessions           7/28/2021   \n",
       "\n",
       "  Last Modified Date Pitch: Pitch Number Pass Pitched Funded  \\\n",
       "0           6/1/2021            P-002229  NaN     NaN    NaN   \n",
       "1          6/21/2021            P-002231  NaN     NaN    NaN   \n",
       "2          4/14/2021            P-002234  NaN     NaN    NaN   \n",
       "3          8/13/2021            P-002235  NaN     NaN    NaN   \n",
       "4          2/27/2021            P-002236  NaN     NaN    NaN   \n",
       "\n",
       "   Total Evaulation Score Pitch Date Pitch: Record Type  \n",
       "0                    11.0   7/6/2021    1. Office Hours  \n",
       "1                     NaN  7/15/2021    1. Office Hours  \n",
       "2                    18.0  7/20/2021    1. Office Hours  \n",
       "3                    20.0  7/20/2021    1. Office Hours  \n",
       "4                    16.0  7/27/2021    1. Office Hours  "
      ]
     },
     "execution_count": 5,
     "metadata": {},
     "output_type": "execute_result"
    }
   ],
   "source": [
    "pitches_attempted_by_quarter=pd.read_csv('./data/pitches_attempted_by_quarter.csv')\n",
    "pitches_attempted_by_quarter.head()"
   ]
  },
  {
   "cell_type": "code",
   "execution_count": 15,
   "id": "d7440f15",
   "metadata": {},
   "outputs": [
    {
     "data": {
      "text/plain": [
       "729"
      ]
     },
     "execution_count": 15,
     "metadata": {},
     "output_type": "execute_result"
    }
   ],
   "source": [
    "venture_contacts_education = pd.read_csv('./data/venture_contacts_education.csv')\n",
    "venture_contacts_education.shape[0]"
   ]
  },
  {
   "cell_type": "code",
   "execution_count": 24,
   "id": "097957d4",
   "metadata": {},
   "outputs": [],
   "source": [
    "new_db = pd.merge(idea_ventures_by_industry,venture_contacts_education, on='Account Name', how='right')"
   ]
  },
  {
   "cell_type": "code",
   "execution_count": 25,
   "id": "1072e8f2",
   "metadata": {},
   "outputs": [
    {
     "data": {
      "text/plain": [
       "750"
      ]
     },
     "execution_count": 25,
     "metadata": {},
     "output_type": "execute_result"
    }
   ],
   "source": [
    "new_db.shape[0]"
   ]
  }
 ],
 "metadata": {
  "kernelspec": {
   "display_name": "Python 3",
   "language": "python",
   "name": "python3"
  },
  "language_info": {
   "codemirror_mode": {
    "name": "ipython",
    "version": 3
   },
   "file_extension": ".py",
   "mimetype": "text/x-python",
   "name": "python",
   "nbconvert_exporter": "python",
   "pygments_lexer": "ipython3",
   "version": "3.8.8"
  }
 },
 "nbformat": 4,
 "nbformat_minor": 5
}
